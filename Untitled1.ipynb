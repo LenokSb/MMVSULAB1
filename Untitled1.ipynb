{
  "nbformat": 4,
  "nbformat_minor": 0,
  "metadata": {
    "colab": {
      "provenance": [],
      "authorship_tag": "ABX9TyOvXR8bS2Q6lYwdYHxSU8aW",
      "include_colab_link": true
    },
    "kernelspec": {
      "name": "python3",
      "display_name": "Python 3"
    },
    "language_info": {
      "name": "python"
    }
  },
  "cells": [
    {
      "cell_type": "markdown",
      "metadata": {
        "id": "view-in-github",
        "colab_type": "text"
      },
      "source": [
        "<a href=\"https://colab.research.google.com/github/LenokSb/MMVSULAB1/blob/main/Untitled1.ipynb\" target=\"_parent\"><img src=\"https://colab.research.google.com/assets/colab-badge.svg\" alt=\"Open In Colab\"/></a>"
      ]
    },
    {
      "cell_type": "code",
      "execution_count": null,
      "metadata": {
        "id": "bmaDvyfhXMRr"
      },
      "outputs": [],
      "source": []
    },
    {
      "cell_type": "markdown",
      "source": [
        "# Лабораторная работа №2\n"
      ],
      "metadata": {
        "id": "3Hlej91pZNWM"
      }
    },
    {
      "cell_type": "code",
      "source": [
        "\n"
      ],
      "metadata": {
        "id": "c0Ssc19pZYTm"
      },
      "execution_count": null,
      "outputs": []
    },
    {
      "cell_type": "markdown",
      "source": [
        "## Волгоград"
      ],
      "metadata": {
        "id": "7Mjxfa9Dixgy"
      }
    },
    {
      "cell_type": "markdown",
      "source": [],
      "metadata": {
        "id": "YfHz7z6Oiv0r"
      }
    },
    {
      "cell_type": "markdown",
      "source": [],
      "metadata": {
        "id": "ovRir9zraIrH"
      }
    },
    {
      "cell_type": "markdown",
      "source": [
        "График №1"
      ],
      "metadata": {
        "id": "iIexLzfhljwX"
      }
    },
    {
      "cell_type": "code",
      "source": [
        "import matplotlib.pyplot as plt\n",
        "import numpy as np\n",
        "from scipy.integrate import odeint\n",
        "\n",
        "m=[1991, 1992,1993, 1994,1995, 1996, 1997, 1998, 1999, 2000, 2001,2002,2003,2004, 2005, 2006, 2007, 2008, 2009, 2010, 2011, 2012, 2013,2014, 2015, 2016,2017,2018,2020, 2021] \n",
        "n=[1000000, 998000, 996000, 999000, 999000, 1000000, 999000, 996000, 989000, 983000, 1011417, 1011400, 1004200, 999100, 991700,986300, 983900, 981909, 1021215, 1021200, 1018739, 1018790, 1017985, 1017451, 1016137, 1015586, 1013533, 1013468, 1008998, 1028036]\n",
        "print(len(n))\n",
        "print(len(m))\n",
        "plt.plot(m,n)\n",
        "plt.grid(True)"
      ],
      "metadata": {
        "colab": {
          "base_uri": "https://localhost:8080/",
          "height": 311
        },
        "id": "anMZ05UHbmil",
        "outputId": "01504abb-f6bf-4adb-ed47-cf98be89a34c"
      },
      "execution_count": 15,
      "outputs": [
        {
          "output_type": "stream",
          "name": "stdout",
          "text": [
            "30\n",
            "30\n"
          ]
        },
        {
          "output_type": "display_data",
          "data": {
            "text/plain": [
              "<Figure size 432x288 with 1 Axes>"
            ],
            "image/png": "[encoded data removed]"
          },
          "metadata": {
            "needs_background": "light"
          }
        }
      ]
    },
    {
      "cell_type": "code",
      "source": [
        "График №2"
      ],
      "metadata": {
        "id": "T9IijdPyldaj"
      },
      "execution_count": null,
      "outputs": []
    },
    {
      "cell_type": "code",
      "source": [
        "import matplotlib.pyplot as plt\n",
        "import numpy as np\n",
        "from scipy.integrate import odeint\n",
        "a=150\n",
        "b=0.2\n",
        "def dydt(x,t):\n",
        "  return k(x)*x\n",
        "def k(x):\n",
        "    return a/x+b\n",
        "t = np.linspace(0,10,100)\n",
        "solve = odeint(dydt, 1, t=t)\n",
        "solve = solve.flatten()\n",
        "%matplotlib inline\n",
        "plt.plot(t,solve, label = r\"x'=k(x)*x)x'\")\n",
        "plt.grid(True)\n",
        "plt.legend()\n",
        "plt.show()"
      ],
      "metadata": {
        "colab": {
          "base_uri": "https://localhost:8080/",
          "height": 268
        },
        "id": "aTGjPtAIlpEM",
        "outputId": "95f98966-c209-431e-bf6c-5ed3ded0a517"
      },
      "execution_count": 25,
      "outputs": [
        {
          "output_type": "display_data",
          "data": {
            "text/plain": [
              "<Figure size 432x288 with 1 Axes>"
            ],
            "image/png": "[encoded data removed]"
          },
          "metadata": {
            "needs_background": "light"
          }
        }
      ]
    },
    {
      "cell_type": "markdown",
      "source": [],
      "metadata": {
        "id": "CdNBsDn4aH-Q"
      }
    },
    {
      "cell_type": "markdown",
      "source": [],
      "metadata": {
        "id": "ExRuiHIzaFDX"
      }
    }
  ]
}